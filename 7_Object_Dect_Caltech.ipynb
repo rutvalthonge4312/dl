{
 "cells": [
  {
   "cell_type": "markdown",
   "id": "7192c199",
   "metadata": {},
   "source": [
    "6. Object detection using Transfer Learning of CNN architectures\n",
    "<br>\n",
    "a. Load in a pre-trained CNN model trained on a large dataset\n",
    "<br>\n",
    "b. Freeze parameters (weights) in model’s lower convolutional layers\n",
    "<br>\n",
    "c. Add custom classifier with several layers of trainable parameters to model\n",
    "<br>\n",
    "d. Train classifier layers on training data available for task\n",
    "<br>\n",
    "e. Fine-tune hyper parameters and unfreeze more layers as needed"
   ]
  },
  {
   "cell_type": "code",
   "execution_count": null,
   "id": "e4bf6af5",
   "metadata": {},
   "outputs": [],
   "source": [
    "import tensorflow as tf\n",
    "from tensorflow import keras\n",
    "from tensorflow.keras.applications import VGG16\n",
    "from tensorflow.keras.models import Model\n",
    "from tensorflow.keras.layers import Dense, Flatten\n",
    "from tensorflow.keras.optimizers import Adam\n",
    "from tensorflow.keras.preprocessing.image import ImageDataGenerator\n",
    "import numpy as np"
   ]
  },
  {
   "cell_type": "markdown",
   "id": "323db788",
   "metadata": {},
   "source": [
    "#### Pre processing img data "
   ]
  },
  {
   "cell_type": "code",
   "execution_count": 24,
   "id": "ce3ed90f",
   "metadata": {},
   "outputs": [
    {
     "name": "stdout",
     "output_type": "stream",
     "text": [
      "Found 9144 images belonging to 102 classes.\n"
     ]
    }
   ],
   "source": [
    "dataset_dir = \"caltech-101-img\"\n",
    "dataset_datagen = ImageDataGenerator(\n",
    "    rescale=1.0 / 255,\n",
    ")\n",
    "\n",
    "# here batch_size is the number of images in each batch\n",
    "batch_size = 2000\n",
    "dataset_generator = dataset_datagen.flow_from_directory(\n",
    "    dataset_dir,\n",
    "    target_size=(64, 64),\n",
    "    batch_size=batch_size,\n",
    "    class_mode='categorical'\n",
    ")"
   ]
  },
  {
   "cell_type": "markdown",
   "id": "3f92ad43",
   "metadata": {},
   "source": [
    "#### Selecting first batch containing 2000 images as train and second batch containing 2000 images as test data"
   ]
  },
  {
   "cell_type": "code",
   "execution_count": 27,
   "id": "7f1b78a6",
   "metadata": {},
   "outputs": [
    {
     "name": "stdout",
     "output_type": "stream",
     "text": [
      "2000\n",
      "2000\n"
     ]
    }
   ],
   "source": [
    "x_train, y_train =  dataset_generator[0]\n",
    "x_test, y_test = dataset_generator[1]\n",
    "\n",
    "print(len(x_train))\n",
    "print(len(x_test))"
   ]
  },
  {
   "cell_type": "markdown",
   "id": "4d1d99e1",
   "metadata": {},
   "source": [
    "#### a. Load in a pre-trained CNN model trained on a large dataset"
   ]
  },
  {
   "cell_type": "code",
   "execution_count": 30,
   "id": "99b52be9",
   "metadata": {},
   "outputs": [],
   "source": [
    "# Load VGG16 without top layers\n",
    "weights_path = \"vgg16_weights_tf_dim_ordering_tf_kernels_notop.h5\"\n",
    "#base_model = VGG16(weights=weights_path, include_top=False, input_shape=(64, 64, 3))\n",
    "base_model = VGG16(weights='imagenet', include_top=False, input_shape=(64, 64, 3))\n"
   ]
  },
  {
   "cell_type": "markdown",
   "id": "07799edd",
   "metadata": {},
   "source": [
    "#### b. Freeze parameters (weights) in model’s lower convolutional layers"
   ]
  },
  {
   "cell_type": "code",
   "execution_count": 33,
   "id": "1e455966",
   "metadata": {},
   "outputs": [],
   "source": [
    "for layer in base_model.layers:\n",
    "   layer.trainable = False"
   ]
  },
  {
   "cell_type": "markdown",
   "id": "cbd33e93",
   "metadata": {},
   "source": [
    "#### c. Add custom classifier with several layers of trainable parameters to model"
   ]
  },
  {
   "cell_type": "code",
   "execution_count": 36,
   "id": "3098c043",
   "metadata": {},
   "outputs": [],
   "source": [
    "x = Flatten()(base_model.output)\n",
    "x = Dense(64, activation='relu')(x)\n",
    "predictions = Dense(102, activation='softmax')(x)\n",
    "\n",
    "# Create the model\n",
    "model = Model(inputs=base_model.input, outputs=predictions)\n",
    "# Compile the model\n",
    "model.compile(optimizer=\"adam\", loss='categorical_crossentropy', metrics=['accuracy'])"
   ]
  },
  {
   "cell_type": "markdown",
   "id": "e19c018b",
   "metadata": {},
   "source": [
    "#### d. Train classifier layers on training data available for task"
   ]
  },
  {
   "cell_type": "code",
   "execution_count": 39,
   "id": "ad782ca4",
   "metadata": {
    "scrolled": true
   },
   "outputs": [
    {
     "name": "stdout",
     "output_type": "stream",
     "text": [
      "Epoch 1/10\n",
      "\u001b[1m32/32\u001b[0m \u001b[32m━━━━━━━━━━━━━━━━━━━━\u001b[0m\u001b[37m\u001b[0m \u001b[1m141s\u001b[0m 4s/step - accuracy: 0.1549 - loss: 4.2150 - val_accuracy: 0.2880 - val_loss: 3.3954\n",
      "Epoch 2/10\n",
      "\u001b[1m32/32\u001b[0m \u001b[32m━━━━━━━━━━━━━━━━━━━━\u001b[0m\u001b[37m\u001b[0m \u001b[1m125s\u001b[0m 4s/step - accuracy: 0.3601 - loss: 3.0663 - val_accuracy: 0.3895 - val_loss: 2.9515\n",
      "Epoch 3/10\n",
      "\u001b[1m32/32\u001b[0m \u001b[32m━━━━━━━━━━━━━━━━━━━━\u001b[0m\u001b[37m\u001b[0m \u001b[1m125s\u001b[0m 4s/step - accuracy: 0.4794 - loss: 2.5015 - val_accuracy: 0.4645 - val_loss: 2.6238\n",
      "Epoch 4/10\n",
      "\u001b[1m32/32\u001b[0m \u001b[32m━━━━━━━━━━━━━━━━━━━━\u001b[0m\u001b[37m\u001b[0m \u001b[1m124s\u001b[0m 4s/step - accuracy: 0.5315 - loss: 2.1264 - val_accuracy: 0.4810 - val_loss: 2.3922\n",
      "Epoch 5/10\n",
      "\u001b[1m32/32\u001b[0m \u001b[32m━━━━━━━━━━━━━━━━━━━━\u001b[0m\u001b[37m\u001b[0m \u001b[1m114s\u001b[0m 4s/step - accuracy: 0.5989 - loss: 1.8021 - val_accuracy: 0.4940 - val_loss: 2.2522\n",
      "Epoch 6/10\n",
      "\u001b[1m32/32\u001b[0m \u001b[32m━━━━━━━━━━━━━━━━━━━━\u001b[0m\u001b[37m\u001b[0m \u001b[1m123s\u001b[0m 4s/step - accuracy: 0.6552 - loss: 1.5589 - val_accuracy: 0.5295 - val_loss: 2.1193\n",
      "Epoch 7/10\n",
      "\u001b[1m32/32\u001b[0m \u001b[32m━━━━━━━━━━━━━━━━━━━━\u001b[0m\u001b[37m\u001b[0m \u001b[1m133s\u001b[0m 4s/step - accuracy: 0.7088 - loss: 1.3700 - val_accuracy: 0.5410 - val_loss: 2.0372\n",
      "Epoch 8/10\n",
      "\u001b[1m32/32\u001b[0m \u001b[32m━━━━━━━━━━━━━━━━━━━━\u001b[0m\u001b[37m\u001b[0m \u001b[1m139s\u001b[0m 4s/step - accuracy: 0.7747 - loss: 1.1627 - val_accuracy: 0.5495 - val_loss: 1.9810\n",
      "Epoch 9/10\n",
      "\u001b[1m32/32\u001b[0m \u001b[32m━━━━━━━━━━━━━━━━━━━━\u001b[0m\u001b[37m\u001b[0m \u001b[1m129s\u001b[0m 4s/step - accuracy: 0.7839 - loss: 1.0665 - val_accuracy: 0.5580 - val_loss: 1.9239\n",
      "Epoch 10/10\n",
      "\u001b[1m32/32\u001b[0m \u001b[32m━━━━━━━━━━━━━━━━━━━━\u001b[0m\u001b[37m\u001b[0m \u001b[1m126s\u001b[0m 4s/step - accuracy: 0.8227 - loss: 0.8811 - val_accuracy: 0.5695 - val_loss: 1.8681\n"
     ]
    },
    {
     "data": {
      "text/plain": [
       "<keras.src.callbacks.history.History at 0x23822f1da00>"
      ]
     },
     "execution_count": 39,
     "metadata": {},
     "output_type": "execute_result"
    }
   ],
   "source": [
    "# Train the model\n",
    "model.fit(x_train, y_train, batch_size=64, epochs=10, validation_data=(x_test, y_test))"
   ]
  },
  {
   "cell_type": "markdown",
   "id": "f33eca61",
   "metadata": {},
   "source": [
    "#### e. Fine-tune hyper parameters and unfreeze more layers as needed"
   ]
  },
  {
   "cell_type": "code",
   "execution_count": 41,
   "id": "1abf07c7",
   "metadata": {},
   "outputs": [
    {
     "name": "stdout",
     "output_type": "stream",
     "text": [
      "Epoch 1/10\n",
      "\u001b[1m32/32\u001b[0m \u001b[32m━━━━━━━━━━━━━━━━━━━━\u001b[0m\u001b[37m\u001b[0m \u001b[1m147s\u001b[0m 4s/step - accuracy: 0.2598 - loss: 3.6736 - val_accuracy: 0.4830 - val_loss: 2.3553\n",
      "Epoch 2/10\n",
      "\u001b[1m32/32\u001b[0m \u001b[32m━━━━━━━━━━━━━━━━━━━━\u001b[0m\u001b[37m\u001b[0m \u001b[1m145s\u001b[0m 4s/step - accuracy: 0.5642 - loss: 1.8405 - val_accuracy: 0.5640 - val_loss: 1.8648\n",
      "Epoch 3/10\n",
      "\u001b[1m32/32\u001b[0m \u001b[32m━━━━━━━━━━━━━━━━━━━━\u001b[0m\u001b[37m\u001b[0m \u001b[1m116s\u001b[0m 4s/step - accuracy: 0.6991 - loss: 1.1909 - val_accuracy: 0.5845 - val_loss: 1.7438\n",
      "Epoch 4/10\n",
      "\u001b[1m32/32\u001b[0m \u001b[32m━━━━━━━━━━━━━━━━━━━━\u001b[0m\u001b[37m\u001b[0m \u001b[1m111s\u001b[0m 4s/step - accuracy: 0.7909 - loss: 0.7431 - val_accuracy: 0.6065 - val_loss: 1.6999\n",
      "Epoch 5/10\n",
      "\u001b[1m32/32\u001b[0m \u001b[32m━━━━━━━━━━━━━━━━━━━━\u001b[0m\u001b[37m\u001b[0m \u001b[1m116s\u001b[0m 4s/step - accuracy: 0.8914 - loss: 0.4444 - val_accuracy: 0.6100 - val_loss: 1.7318\n",
      "Epoch 6/10\n",
      "\u001b[1m32/32\u001b[0m \u001b[32m━━━━━━━━━━━━━━━━━━━━\u001b[0m\u001b[37m\u001b[0m \u001b[1m116s\u001b[0m 4s/step - accuracy: 0.9243 - loss: 0.2763 - val_accuracy: 0.6360 - val_loss: 1.7011\n",
      "Epoch 7/10\n",
      "\u001b[1m32/32\u001b[0m \u001b[32m━━━━━━━━━━━━━━━━━━━━\u001b[0m\u001b[37m\u001b[0m \u001b[1m112s\u001b[0m 4s/step - accuracy: 0.9505 - loss: 0.1814 - val_accuracy: 0.6350 - val_loss: 1.8146\n",
      "Epoch 8/10\n",
      "\u001b[1m32/32\u001b[0m \u001b[32m━━━━━━━━━━━━━━━━━━━━\u001b[0m\u001b[37m\u001b[0m \u001b[1m89s\u001b[0m 3s/step - accuracy: 0.9797 - loss: 0.1012 - val_accuracy: 0.6360 - val_loss: 1.7739\n",
      "Epoch 9/10\n",
      "\u001b[1m32/32\u001b[0m \u001b[32m━━━━━━━━━━━━━━━━━━━━\u001b[0m\u001b[37m\u001b[0m \u001b[1m112s\u001b[0m 4s/step - accuracy: 0.9797 - loss: 0.0707 - val_accuracy: 0.6390 - val_loss: 1.7960\n",
      "Epoch 10/10\n",
      "\u001b[1m32/32\u001b[0m \u001b[32m━━━━━━━━━━━━━━━━━━━━\u001b[0m\u001b[37m\u001b[0m \u001b[1m110s\u001b[0m 3s/step - accuracy: 0.9876 - loss: 0.0502 - val_accuracy: 0.6435 - val_loss: 1.8424\n"
     ]
    },
    {
     "data": {
      "text/plain": [
       "<keras.src.callbacks.history.History at 0x2384d1a8e60>"
      ]
     },
     "execution_count": 41,
     "metadata": {},
     "output_type": "execute_result"
    }
   ],
   "source": [
    "base_model = VGG16(weights=weights_path, include_top=False, input_shape=(64, 64, 3))\n",
    "# freeze all layers first\n",
    "for layer in base_model.layers:\n",
    "   layer.trainable = False\n",
    "# unfreeze last 4 layers of base model\n",
    "for layer in base_model.layers[len(base_model.layers) - 2:]:\n",
    "   layer.trainable = True\n",
    "# fine-tuning hyper parameters\n",
    "x = Flatten()(base_model.output)\n",
    "x = Dense(512, activation='relu')(x)\n",
    "x = tf.keras.layers.Dropout(0.3)(x)\n",
    "predictions = Dense(102, activation='softmax')(x)\n",
    "\n",
    "# Create the model\n",
    "model = Model(inputs=base_model.input, outputs=predictions)\n",
    "# Compile the model\n",
    "model.compile(optimizer=Adam(learning_rate=0.001), loss='categorical_crossentropy', metrics=['accuracy'])\n",
    "# training fine tuned model\n",
    "model.fit(x_train, y_train, batch_size=64, epochs=10, validation_data=(x_test, y_test))"
   ]
  },
  {
   "cell_type": "code",
   "execution_count": 43,
   "id": "3a747f5b",
   "metadata": {},
   "outputs": [
    {
     "name": "stdout",
     "output_type": "stream",
     "text": [
      "\u001b[1m63/63\u001b[0m \u001b[32m━━━━━━━━━━━━━━━━━━━━\u001b[0m\u001b[37m\u001b[0m \u001b[1m59s\u001b[0m 913ms/step\n"
     ]
    }
   ],
   "source": [
    "import matplotlib.pyplot as plt\n",
    "predicted_value = model.predict(x_test)"
   ]
  },
  {
   "cell_type": "code",
   "execution_count": 45,
   "id": "807c32d6",
   "metadata": {},
   "outputs": [],
   "source": [
    "labels = list(dataset_generator.class_indices.keys())"
   ]
  },
  {
   "cell_type": "code",
   "execution_count": 47,
   "id": "09ec51ed",
   "metadata": {},
   "outputs": [
    {
     "name": "stdout",
     "output_type": "stream",
     "text": [
      "Preditcted:  revolver\n",
      "Actual:  revolver\n"
     ]
    },
    {
     "data": {
      "image/png": "[encoded data removed]",
      "text/plain": [
       "<Figure size 640x480 with 1 Axes>"
      ]
     },
     "metadata": {},
     "output_type": "display_data"
    }
   ],
   "source": [
    "n = 1000\n",
    "plt.imshow(x_test[n])\n",
    "print(\"Preditcted: \",labels[np.argmax(predicted_value[n])])\n",
    "print(\"Actual: \", labels[np.argmax(y_test[n])])"
   ]
  },
  {
   "cell_type": "code",
   "execution_count": null,
   "id": "4e22bb1f",
   "metadata": {},
   "outputs": [],
   "source": []
  }
 ],
 "metadata": {
  "kernelspec": {
   "display_name": "Python 3 (ipykernel)",
   "language": "python",
   "name": "python3"
  },
  "language_info": {
   "codemirror_mode": {
    "name": "ipython",
    "version": 3
   },
   "file_extension": ".py",
   "mimetype": "text/x-python",
   "name": "python",
   "nbconvert_exporter": "python",
   "pygments_lexer": "ipython3",
   "version": "3.12.7"
  }
 },
 "nbformat": 4,
 "nbformat_minor": 5
}
